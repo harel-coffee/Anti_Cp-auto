{
 "cells": [
  {
   "cell_type": "markdown",
   "metadata": {},
   "source": [
    "test other dataset"
   ]
  },
  {
   "cell_type": "code",
   "execution_count": 1,
   "metadata": {},
   "outputs": [],
   "source": [
    "from autogluon.tabular import TabularDataset, TabularPredictor\n",
    "import numpy as np\n",
    "from sklearn.model_selection import train_test_split\n",
    "import pandas as pd"
   ]
  },
  {
   "cell_type": "code",
   "execution_count": 2,
   "metadata": {},
   "outputs": [],
   "source": [
    "save_path = 'anticp'\n",
    "predictor = TabularPredictor.load(save_path) "
   ]
  },
  {
   "cell_type": "code",
   "execution_count": 3,
   "metadata": {},
   "outputs": [
    {
     "name": "stderr",
     "output_type": "stream",
     "text": [
      "\n",
      "Bad key \"text.kerning_factor\" on line 4 in\n",
      "F:\\anaconda\\install\\lib\\site-packages\\matplotlib\\mpl-data\\stylelib\\_classic_test_patch.mplstyle.\n",
      "You probably need to get an updated matplotlibrc file from\n",
      "https://github.com/matplotlib/matplotlib/blob/v3.1.3/matplotlibrc.template\n",
      "or from the matplotlib source distribution\n"
     ]
    },
    {
     "name": "stdout",
     "output_type": "stream",
     "text": [
      "            1         2         3\n",
      "0    0.216812  0.158422  0.624766\n",
      "1    0.106997  0.101245  0.791759\n",
      "2    0.132986  0.119045  0.747969\n",
      "3    0.142311  0.127939  0.729750\n",
      "4    0.159003  0.160645  0.680352\n",
      "..        ...       ...       ...\n",
      "484  0.360788  0.368600  0.270612\n",
      "485  0.345225  0.207245  0.447530\n",
      "486  0.152167  0.142064  0.705768\n",
      "487  0.128400  0.162065  0.709534\n",
      "488  0.227254  0.182266  0.590480\n",
      "\n",
      "[489 rows x 3 columns]\n"
     ]
    }
   ],
   "source": [
    "antidata_neg = TabularDataset('neg_dataset.csv')\n",
    "y_pred_neg= predictor.predict(antidata_neg)\n",
    "percent_neg=predictor.predict_proba(antidata_neg)\n",
    "y_pred_neg.to_csv('pred_neg.csv',sep=',',index=True,header=True)\n",
    "print(percent_neg)"
   ]
  },
  {
   "cell_type": "code",
   "execution_count": 4,
   "metadata": {},
   "outputs": [
    {
     "name": "stdout",
     "output_type": "stream",
     "text": [
      "0      3\n",
      "1      3\n",
      "2      3\n",
      "3      3\n",
      "4      3\n",
      "      ..\n",
      "484    2\n",
      "485    3\n",
      "486    3\n",
      "487    3\n",
      "488    3\n",
      "Name: Label, Length: 489, dtype: int64\n",
      "precent: 90.0 %\n"
     ]
    }
   ],
   "source": [
    "print(y_pred_neg)\n",
    "print('precent:',round((sum(y_pred_neg)/(488*3))*100,0),'%')"
   ]
  },
  {
   "cell_type": "code",
   "execution_count": 7,
   "metadata": {},
   "outputs": [
    {
     "name": "stdout",
     "output_type": "stream",
     "text": [
      "Predictions: \n",
      " 0    1\n",
      "1    1\n",
      "2    1\n",
      "3    1\n",
      "4    1\n",
      "5    1\n",
      "Name: Label, dtype: int64\n",
      "          1         2         3\n",
      "0  0.672960  0.227079  0.099961\n",
      "1  0.569788  0.321226  0.108986\n",
      "2  0.617959  0.284509  0.097532\n",
      "3  0.579270  0.316468  0.104262\n",
      "4  0.561920  0.337859  0.100222\n",
      "5  0.664220  0.232412  0.103369\n"
     ]
    }
   ],
   "source": [
    "antidata = TabularDataset('de_AMPs.csv')\n",
    "y_pred= predictor.predict(antidata)\n",
    "print(\"Predictions: \\n\", y_pred)\n",
    "percent=predictor.predict_proba(antidata)\n",
    "print(percent)"
   ]
  }
 ],
 "metadata": {
  "kernelspec": {
   "display_name": "Python 3",
   "language": "python",
   "name": "python3"
  },
  "language_info": {
   "codemirror_mode": {
    "name": "ipython",
    "version": 3
   },
   "file_extension": ".py",
   "mimetype": "text/x-python",
   "name": "python",
   "nbconvert_exporter": "python",
   "pygments_lexer": "ipython3",
   "version": "3.7.6"
  }
 },
 "nbformat": 4,
 "nbformat_minor": 4
}
